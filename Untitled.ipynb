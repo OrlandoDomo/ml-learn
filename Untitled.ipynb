{
 "cells": [
  {
   "cell_type": "markdown",
   "id": "e0e7992c-ce32-4dc2-9531-5a15efad883e",
   "metadata": {
    "tags": []
   },
   "source": [
    "# Probando Jupyter Lab"
   ]
  },
  {
   "cell_type": "code",
   "execution_count": 7,
   "id": "65d65805-4027-4191-b04f-4a16cc8b0009",
   "metadata": {},
   "outputs": [],
   "source": [
    "import duckdb\n",
    "import pandas as pd"
   ]
  },
  {
   "cell_type": "code",
   "execution_count": 8,
   "id": "6d66aaf6-e438-4b0a-b4e6-6fe12bcab9e8",
   "metadata": {},
   "outputs": [],
   "source": [
    "cursor= duckdb.connect('SampleDB')"
   ]
  },
  {
   "cell_type": "code",
   "execution_count": 9,
   "id": "3e2f7333-6741-46e7-8bb7-4c915d602316",
   "metadata": {},
   "outputs": [],
   "source": [
    "s1= 'CREATE TABLE people (id INTEGER, name VARCHAR)'\n",
    "s2= \"INSERT INTO people VALUES (1,'Mark');\""
   ]
  },
  {
   "cell_type": "code",
   "execution_count": 11,
   "id": "be8fd72d-3658-404f-936e-c18872a4e1f5",
   "metadata": {},
   "outputs": [
    {
     "data": {
      "text/plain": [
       "<duckdb.DuckDBPyConnection at 0x16cf235c8f0>"
      ]
     },
     "execution_count": 11,
     "metadata": {},
     "output_type": "execute_result"
    }
   ],
   "source": [
    "cursor.execute(s2)"
   ]
  },
  {
   "cell_type": "code",
   "execution_count": 2,
   "id": "a760997c-e31a-4d94-9076-775e56127b37",
   "metadata": {},
   "outputs": [],
   "source": [
    "from flask import Flask"
   ]
  },
  {
   "cell_type": "code",
   "execution_count": null,
   "id": "83777c62-5e21-49e5-aa4e-7fcae0dc4e1e",
   "metadata": {},
   "outputs": [],
   "source": [
    "app= Flask(__name__)\n",
    "\n",
    "@app.route(\"/\")\n",
    "\n",
    "def hello():\n",
    "    return \"<p>Hello World!</p>"
   ]
  }
 ],
 "metadata": {
  "kernelspec": {
   "display_name": "Python 3 (ipykernel)",
   "language": "python",
   "name": "python3"
  },
  "language_info": {
   "codemirror_mode": {
    "name": "ipython",
    "version": 3
   },
   "file_extension": ".py",
   "mimetype": "text/x-python",
   "name": "python",
   "nbconvert_exporter": "python",
   "pygments_lexer": "ipython3",
   "version": "3.9.15"
  }
 },
 "nbformat": 4,
 "nbformat_minor": 5
}
