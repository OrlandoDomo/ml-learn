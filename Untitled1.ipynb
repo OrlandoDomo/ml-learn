{
 "cells": [
  {
   "cell_type": "code",
   "execution_count": 11,
   "id": "73ea4f7b-58e3-4c8f-95b7-38b8b98b39df",
   "metadata": {},
   "outputs": [],
   "source": [
    "import numpy as np\n",
    "import pandas as pd\n",
    "import flask\n",
    "import csv\n"
   ]
  },
  {
   "cell_type": "code",
   "execution_count": 2,
   "id": "8d1f9e38-3ef9-4c61-a093-6eaa04c96b03",
   "metadata": {},
   "outputs": [],
   "source": [
    "path= 'O:\\\\Scripts\\\\Python_scripts\\\\data\\\\6p.csv'\n",
    "\n",
    "\n",
    "df=pd.read_csv(path)\n"
   ]
  },
  {
   "cell_type": "code",
   "execution_count": 15,
   "id": "67d0e33e-1d44-4372-884f-770bd35c368a",
   "metadata": {},
   "outputs": [
    {
     "ename": "NameError",
     "evalue": "name 'Flask' is not defined",
     "output_type": "error",
     "traceback": [
      "\u001b[1;31m---------------------------------------------------------------------------\u001b[0m",
      "\u001b[1;31mNameError\u001b[0m                                 Traceback (most recent call last)",
      "Cell \u001b[1;32mIn[15], line 1\u001b[0m\n\u001b[1;32m----> 1\u001b[0m app\u001b[38;5;241m=\u001b[39m \u001b[43mFlask\u001b[49m(\u001b[38;5;18m__name__\u001b[39m)\n\u001b[0;32m      3\u001b[0m \u001b[38;5;129m@app\u001b[39m\u001b[38;5;241m.\u001b[39mroute(\u001b[38;5;124m'\u001b[39m\u001b[38;5;124m/\u001b[39m\u001b[38;5;124m'\u001b[39m)\n\u001b[0;32m      4\u001b[0m \u001b[38;5;28;01mdef\u001b[39;00m \u001b[38;5;21mget_current_user\u001b[39m():\n\u001b[0;32m      5\u001b[0m     \u001b[38;5;28;01mreturn\u001b[39;00m jsonify(username\u001b[38;5;241m=\u001b[39mg\u001b[38;5;241m.\u001b[39muser\u001b[38;5;241m.\u001b[39musername,\n\u001b[0;32m      6\u001b[0m                    email\u001b[38;5;241m=\u001b[39mg\u001b[38;5;241m.\u001b[39muser\u001b[38;5;241m.\u001b[39memail,\n\u001b[0;32m      7\u001b[0m                    \u001b[38;5;28mid\u001b[39m\u001b[38;5;241m=\u001b[39mg\u001b[38;5;241m.\u001b[39muser\u001b[38;5;241m.\u001b[39mid)\n",
      "\u001b[1;31mNameError\u001b[0m: name 'Flask' is not defined"
     ]
    }
   ],
   "source": [
    "app= Flask(__name__)\n",
    "\n",
    "@app.route('/')\n",
    "def get_current_user():\n",
    "    return jsonify(username=g.user.username,\n",
    "                   email=g.user.email,\n",
    "                   id=g.user.id)\n",
    "    flask.jsonify(df['Angle'].values)"
   ]
  },
  {
   "cell_type": "code",
   "execution_count": 12,
   "id": "b2176e7d-29b5-435b-8c40-4789b5bea83e",
   "metadata": {},
   "outputs": [
    {
     "data": {
      "text/plain": [
       "array([  5.01086644,   5.03259932,   5.0543322 , ..., 109.95894396,\n",
       "       109.98067684, 110.00240972])"
      ]
     },
     "execution_count": 12,
     "metadata": {},
     "output_type": "execute_result"
    }
   ],
   "source": [
    "df['Angle'].values"
   ]
  },
  {
   "cell_type": "code",
   "execution_count": null,
   "id": "27562d70-b07e-4d8a-9772-dced16abaf03",
   "metadata": {},
   "outputs": [],
   "source": []
  }
 ],
 "metadata": {
  "kernelspec": {
   "display_name": "Python 3 (ipykernel)",
   "language": "python",
   "name": "python3"
  },
  "language_info": {
   "codemirror_mode": {
    "name": "ipython",
    "version": 3
   },
   "file_extension": ".py",
   "mimetype": "text/x-python",
   "name": "python",
   "nbconvert_exporter": "python",
   "pygments_lexer": "ipython3",
   "version": "3.9.15"
  }
 },
 "nbformat": 4,
 "nbformat_minor": 5
}
